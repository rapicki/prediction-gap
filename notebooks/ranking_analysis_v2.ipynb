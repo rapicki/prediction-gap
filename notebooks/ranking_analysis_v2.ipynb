{
 "cells": [
  {
   "cell_type": "code",
   "execution_count": null,
   "metadata": {},
   "outputs": [],
   "source": []
  },
  {
   "cell_type": "markdown",
   "metadata": {},
   "source": [
    "# Imports"
   ]
  },
  {
   "cell_type": "code",
   "execution_count": 1,
   "metadata": {},
   "outputs": [],
   "source": [
    "import os\n",
    "while \"notebooks\" in os.getcwd():\n",
    "    os.chdir(\"../\")\n"
   ]
  },
  {
   "cell_type": "code",
   "execution_count": 2,
   "metadata": {},
   "outputs": [],
   "source": [
    "from pathlib import Path\n",
    "import pandas as pd\n",
    "import numpy as np\n",
    "import matplotlib.pyplot as plt\n",
    "import scienceplots\n",
    "import seaborn as sns\n",
    "import pandas as pd\n",
    "plt.style.use(['science'])"
   ]
  },
  {
   "cell_type": "code",
   "execution_count": 3,
   "metadata": {},
   "outputs": [],
   "source": [
    "result_path = Path(\"results\")"
   ]
  },
  {
   "cell_type": "code",
   "execution_count": 4,
   "metadata": {},
   "outputs": [],
   "source": [
    "plot_directory = Path(\"plots\")"
   ]
  },
  {
   "cell_type": "code",
   "execution_count": null,
   "metadata": {},
   "outputs": [],
   "source": []
  },
  {
   "cell_type": "markdown",
   "metadata": {},
   "source": [
    "# Rankings"
   ]
  },
  {
   "cell_type": "code",
   "execution_count": 70,
   "metadata": {},
   "outputs": [],
   "source": [
    "def compare_two_rankings(rank_1: np.ndarray, rank_2:np.ndarray, number_of_features: 1):\n",
    "    total = len(rank_1)\n",
    "    count = 0\n",
    "    for r_1, r_2 in zip(rank_1, rank_2):\n",
    "        if set(r_1[0:number_of_features]) == set(r_2[0:number_of_features]):\n",
    "            count += 1\n",
    "            #print(r_1, r_2)\n",
    "    return count/total\n",
    "    \n"
   ]
  },
  {
   "cell_type": "code",
   "execution_count": 79,
   "metadata": {},
   "outputs": [],
   "source": [
    "def compare_rankings(results_path: str, model_name: str, stds: list):\n",
    "    \n",
    "    ranking_shap = np.load(results_path + \"ranking/\" + model_name + \"_shap_ranking.npy\")\n",
    "    for s in stds:\n",
    "        li = []\n",
    "        for i in [1, 2, 3]:\n",
    "            ranking = np.load(results_path + \"ranking/\" + model_name + f\"_exact_ranking_std_{s}.npy\")\n",
    "            fraction_same = compare_two_rankings(ranking_shap, ranking, 2)\n",
    "            li.append(fraction_same)                                  \n",
    "        print(li)\n",
    "        print(f\"{s} & {li[0]} & {li[1]} & {li[2]} \\\\\\\\\")\n",
    "\n",
    "    \n"
   ]
  },
  {
   "cell_type": "code",
   "execution_count": 80,
   "metadata": {},
   "outputs": [
    {
     "name": "stdout",
     "output_type": "stream",
     "text": [
      "[0.040625, 0.040625, 0.040625]\n",
      "[0.09375, 0.09375, 0.09375]\n",
      "[0.18125, 0.18125, 0.18125]\n"
     ]
    }
   ],
   "source": [
    "compare_rankings(\"results/wine_model/\", \"wine\", [0.1, 0.3, 1.0])"
   ]
  },
  {
   "cell_type": "code",
   "execution_count": null,
   "metadata": {},
   "outputs": [],
   "source": []
  }
 ],
 "metadata": {
  "kernelspec": {
   "display_name": "venv",
   "language": "python",
   "name": "python3"
  },
  "language_info": {
   "codemirror_mode": {
    "name": "ipython",
    "version": 3
   },
   "file_extension": ".py",
   "mimetype": "text/x-python",
   "name": "python",
   "nbconvert_exporter": "python",
   "pygments_lexer": "ipython3",
   "version": "3.10.12"
  }
 },
 "nbformat": 4,
 "nbformat_minor": 2
}
